{
 "cells": [
  {
   "cell_type": "code",
   "execution_count": 26,
   "id": "4b05dbaf",
   "metadata": {},
   "outputs": [],
   "source": [
    "import os"
   ]
  },
  {
   "cell_type": "code",
   "execution_count": 27,
   "id": "847446be",
   "metadata": {},
   "outputs": [
    {
     "data": {
      "text/plain": [
       "'C:\\\\Users\\\\grevi\\\\Desktop\\\\DATA ENGINEERING\\\\FASTAPI-NOSQL\\\\nbs'"
      ]
     },
     "execution_count": 27,
     "metadata": {},
     "output_type": "execute_result"
    }
   ],
   "source": [
    "os.getcwd()"
   ]
  },
  {
   "cell_type": "code",
   "execution_count": 28,
   "id": "242a27d8",
   "metadata": {},
   "outputs": [
    {
     "name": "stdout",
     "output_type": "stream",
     "text": [
      "C:\\Users\\grevi\\Desktop\\DATA ENGINEERING\\FASTAPI-NOSQL\\nbs\n"
     ]
    }
   ],
   "source": [
    "!cd"
   ]
  },
  {
   "cell_type": "code",
   "execution_count": 29,
   "id": "07842c6c",
   "metadata": {},
   "outputs": [],
   "source": [
    "from app import db, crud, models"
   ]
  },
  {
   "cell_type": "code",
   "execution_count": 30,
   "id": "665b177c",
   "metadata": {},
   "outputs": [],
   "source": [
    "session = db.get_session()"
   ]
  },
  {
   "cell_type": "code",
   "execution_count": 31,
   "id": "638a25f5",
   "metadata": {},
   "outputs": [],
   "source": [
    "data = models.data"
   ]
  },
  {
   "cell_type": "code",
   "execution_count": 32,
   "id": "f80e5a42",
   "metadata": {},
   "outputs": [
    {
     "data": {
      "text/plain": [
       "{'asin': 'TESTING1D23', 'title': 'Mark 7898'}"
      ]
     },
     "execution_count": 32,
     "metadata": {},
     "output_type": "execute_result"
    }
   ],
   "source": [
    "data"
   ]
  },
  {
   "cell_type": "code",
   "execution_count": 33,
   "id": "177b9c18",
   "metadata": {},
   "outputs": [
    {
     "data": {
      "text/plain": [
       "(Product(asin='TESTING1D23', title='Mark 7898', price_str='-100'),\n",
       " ProductScrapeEvent(uuid=UUID('7cb89f1a-9179-11ed-920f-ecb1d798c7f4'), asin='TESTING1D23', title='Mark 7898', price_str='-100'))"
      ]
     },
     "execution_count": 33,
     "metadata": {},
     "output_type": "execute_result"
    }
   ],
   "source": [
    "crud.add_scrape_entry(data, fresh=True)"
   ]
  },
  {
   "cell_type": "code",
   "execution_count": 34,
   "id": "70980585",
   "metadata": {},
   "outputs": [
    {
     "data": {
      "text/plain": [
       "{'asin': 'TESTING1D23', 'title': 'Mark 7898'}"
      ]
     },
     "execution_count": 34,
     "metadata": {},
     "output_type": "execute_result"
    }
   ],
   "source": [
    "data"
   ]
  },
  {
   "cell_type": "code",
   "execution_count": 35,
   "id": "f3113e1f",
   "metadata": {},
   "outputs": [
    {
     "name": "stdout",
     "output_type": "stream",
     "text": [
      "TESTING1D23\n"
     ]
    }
   ],
   "source": [
    "asin = \"TESTING1D23\"\n",
    "for obj in models.Product.objects().all():\n",
    "    print(obj.asin)"
   ]
  },
  {
   "cell_type": "code",
   "execution_count": 36,
   "id": "a0a327dc",
   "metadata": {},
   "outputs": [
    {
     "name": "stdout",
     "output_type": "stream",
     "text": [
      "SELECT * FROM scrapped_data.product LIMIT 10000\n"
     ]
    },
    {
     "data": {
      "text/plain": [
       "SELECT * FROM scrapped_data.product LIMIT 10000"
      ]
     },
     "execution_count": 36,
     "metadata": {},
     "output_type": "execute_result"
    }
   ],
   "source": [
    "print(models.Product.objects().all())\n",
    "q = models.Product.objects().all()\n",
    "q._select_query()"
   ]
  },
  {
   "cell_type": "code",
   "execution_count": 37,
   "id": "7a7e5955",
   "metadata": {},
   "outputs": [
    {
     "name": "stdout",
     "output_type": "stream",
     "text": [
      "['__call__', '__class__', '__deepcopy__', '__delattr__', '__dict__', '__dir__', '__doc__', '__eq__', '__format__', '__ge__', '__getattribute__', '__getitem__', '__gt__', '__hash__', '__init__', '__init_subclass__', '__iter__', '__le__', '__len__', '__lt__', '__module__', '__ne__', '__new__', '__reduce__', '__reduce_ex__', '__repr__', '__setattr__', '__sizeof__', '__str__', '__subclasshook__', '__unicode__', '__weakref__', '_allow_filtering', '_batch', '_conditional', '_connection', '_consistency', '_construct_with_deferred', '_count', '_defer_fields', '_deferred_values', '_distinct_fields', '_execute', '_execute_query', '_fetch_size', '_fill_result_cache', '_fill_result_cache_to_idx', '_flat_values_list', '_get_ordering_condition', '_get_result_constructor', '_if_exists', '_if_not_exists', '_limit', '_materialize_results', '_maybe_inject_deferred', '_only_fields', '_only_or_defer', '_order', '_parse_filter_arg', '_result_cache', '_result_generator', '_result_idx', '_select_fields', '_select_query', '_timeout', '_timestamp', '_ttl', '_validate_select_where', '_values_list', '_where', 'all', 'allow_filtering', 'batch', 'column_family_name', 'consistency', 'count', 'create', 'defer', 'delete', 'distinct', 'fetch_size', 'filter', 'first', 'get', 'if_exists', 'if_not_exists', 'iff', 'limit', 'model', 'only', 'order_by', 'timeout', 'timestamp', 'ttl', 'update', 'using', 'values_list']\n"
     ]
    }
   ],
   "source": [
    "print(dir(q))"
   ]
  },
  {
   "cell_type": "code",
   "execution_count": 38,
   "id": "62a44a30",
   "metadata": {},
   "outputs": [
    {
     "name": "stdout",
     "output_type": "stream",
     "text": [
      "SELECT \"uuid\", \"title\", \"price_str\" FROM scrapped_data.product_scrape_event WHERE \"asin\" = %(0)s LIMIT 10000\n"
     ]
    }
   ],
   "source": [
    "print(models.ProductScrapeEvent.objects.filter(asin=asin))"
   ]
  },
  {
   "cell_type": "code",
   "execution_count": 39,
   "id": "cfb05d82",
   "metadata": {},
   "outputs": [
    {
     "data": {
      "text/plain": [
       "'TESTING1D23'"
      ]
     },
     "execution_count": 39,
     "metadata": {},
     "output_type": "execute_result"
    }
   ],
   "source": [
    "asin"
   ]
  },
  {
   "cell_type": "code",
   "execution_count": 40,
   "id": "acf56d92",
   "metadata": {},
   "outputs": [
    {
     "name": "stdout",
     "output_type": "stream",
     "text": [
      "Scrape events for TESTING1D23\n",
      "0 TESTING1D23 07922e1c-9171-11ed-8804-ecb1d798c7f4\n",
      "1 TESTING1D23 12f37c1b-9124-11ed-b02c-ecb1d798c7f4\n",
      "2 TESTING1D23 7cb89f1a-9179-11ed-920f-ecb1d798c7f4\n",
      "3 TESTING1D23 9832fc5c-9177-11ed-9fff-ecb1d798c7f4\n",
      "4 TESTING1D23 10b6ff30-9124-11ed-b420-ecb1d798c7f4\n",
      "5 TESTING1D23 0f5d2885-9124-11ed-be0a-ecb1d798c7f4\n",
      "6 TESTING1D23 0ba9b39f-9124-11ed-9b2b-ecb1d798c7f4\n",
      "7 TESTING1D23 68349f4d-9170-11ed-94d4-ecb1d798c7f4\n",
      "8 TESTING1D23 0c92ef34-9124-11ed-919b-ecb1d798c7f4\n",
      "9 TESTING1D23 dd715c7b-9170-11ed-a71c-ecb1d798c7f4\n",
      "10 TESTING1D23 0a90b78a-9124-11ed-a0e6-ecb1d798c7f4\n",
      "11 TESTING1D23 13b83e12-9124-11ed-9468-ecb1d798c7f4\n",
      "12 TESTING1D23 3c74fd9e-9121-11ed-94a0-ecb1d798c7f4\n",
      "13 TESTING1D23 b65b35da-9123-11ed-9ac7-ecb1d798c7f4\n",
      "14 TESTING1D23 11f61563-9124-11ed-8253-ecb1d798c7f4\n",
      "15 TESTING1D23 fa9fb211-9123-11ed-a51d-ecb1d798c7f4\n"
     ]
    }
   ],
   "source": [
    "if asin is not None:\n",
    "    print(f\"Scrape events for {asin}\")\n",
    "    q = models.ProductScrapeEvent.objects.filter(asin=asin)\n",
    "    for i, obj in enumerate(q):\n",
    "        print(i, obj.asin, obj.uuid)"
   ]
  },
  {
   "cell_type": "code",
   "execution_count": 41,
   "id": "3a3ba1aa",
   "metadata": {},
   "outputs": [
    {
     "name": "stdout",
     "output_type": "stream",
     "text": [
      "{'asin': 'TESTING1D23', 'price_str': '-100', 'title': 'Mark 7898'}\n"
     ]
    }
   ],
   "source": [
    "for row in session.execute(\"SELECT * FROM scrapped_data.product LIMIT 10000\"):\n",
    "    print (row)"
   ]
  },
  {
   "cell_type": "code",
   "execution_count": 42,
   "id": "0e45dbba",
   "metadata": {},
   "outputs": [
    {
     "name": "stdout",
     "output_type": "stream",
     "text": [
      "{'keyspace_name': 'data_endpoint_auth', 'durable_writes': True, 'graph_engine': None, 'replication': OrderedMapSerializedKey([('class', 'org.apache.cassandra.locator.NetworkTopologyStrategy'), ('europe-west1', '3')])}\n",
      "{'keyspace_name': 'system_auth', 'durable_writes': True, 'graph_engine': None, 'replication': OrderedMapSerializedKey([('class', 'org.apache.cassandra.locator.NetworkTopologyStrategy'), ('europe-west1', '3')])}\n",
      "{'keyspace_name': 'system_schema', 'durable_writes': False, 'graph_engine': None, 'replication': OrderedMapSerializedKey([('class', 'org.apache.cassandra.locator.LocalStrategy')])}\n",
      "{'keyspace_name': 'datastax_sla', 'durable_writes': True, 'graph_engine': None, 'replication': OrderedMapSerializedKey([('class', 'org.apache.cassandra.locator.NetworkTopologyStrategy'), ('europe-west1', '3')])}\n",
      "{'keyspace_name': 'system', 'durable_writes': False, 'graph_engine': None, 'replication': OrderedMapSerializedKey([('class', 'org.apache.cassandra.locator.LocalStrategy')])}\n",
      "{'keyspace_name': 'scrapped_data', 'durable_writes': True, 'graph_engine': None, 'replication': OrderedMapSerializedKey([('class', 'org.apache.cassandra.locator.NetworkTopologyStrategy'), ('europe-west1', '3')])}\n",
      "{'keyspace_name': 'system_traces', 'durable_writes': True, 'graph_engine': None, 'replication': OrderedMapSerializedKey([('class', 'org.apache.cassandra.locator.NetworkTopologyStrategy'), ('europe-west1', '3')])}\n"
     ]
    }
   ],
   "source": [
    "for row in session.execute(\"SELECT * FROM system_schema.keyspaces\"):\n",
    "    print (row)"
   ]
  },
  {
   "cell_type": "code",
   "execution_count": 43,
   "id": "32b36fde",
   "metadata": {},
   "outputs": [
    {
     "name": "stdout",
     "output_type": "stream",
     "text": [
      "{'keyspace_name': 'scrapped_data', 'table_name': 'product', 'additional_write_policy': '99PERCENTILE', 'bloom_filter_fp_chance': 0.01, 'caching': OrderedMapSerializedKey([('keys', 'ALL'), ('rows_per_partition', 'NONE')]), 'cdc': None, 'comment': '', 'compaction': OrderedMapSerializedKey([('class', 'org.apache.cassandra.db.compaction.UnifiedCompactionStrategy')]), 'compression': OrderedMapSerializedKey([('chunk_length_in_kb', '64'), ('class', 'org.apache.cassandra.io.compress.LZ4Compressor')]), 'crc_check_chance': 1.0, 'dclocal_read_repair_chance': 0.0, 'default_time_to_live': 0, 'extensions': OrderedMapSerializedKey([]), 'flags': SortedSet(['compound']), 'gc_grace_seconds': 864000, 'id': UUID('bb059680-9120-11ed-ab75-4f98c6a5bce6'), 'max_index_interval': 2048, 'memtable_flush_period_in_ms': 0, 'min_index_interval': 128, 'nodesync': None, 'read_repair': 'BLOCKING', 'read_repair_chance': 0.0, 'speculative_retry': '99PERCENTILE'}\n",
      "{'keyspace_name': 'scrapped_data', 'table_name': 'product_scrape_event', 'additional_write_policy': '99PERCENTILE', 'bloom_filter_fp_chance': 0.01, 'caching': OrderedMapSerializedKey([('keys', 'ALL'), ('rows_per_partition', 'NONE')]), 'cdc': None, 'comment': '', 'compaction': OrderedMapSerializedKey([('class', 'org.apache.cassandra.db.compaction.UnifiedCompactionStrategy')]), 'compression': OrderedMapSerializedKey([('chunk_length_in_kb', '64'), ('class', 'org.apache.cassandra.io.compress.LZ4Compressor')]), 'crc_check_chance': 1.0, 'dclocal_read_repair_chance': 0.0, 'default_time_to_live': 0, 'extensions': OrderedMapSerializedKey([]), 'flags': SortedSet(['compound']), 'gc_grace_seconds': 864000, 'id': UUID('36540e20-9121-11ed-ab75-4f98c6a5bce6'), 'max_index_interval': 2048, 'memtable_flush_period_in_ms': 0, 'min_index_interval': 128, 'nodesync': None, 'read_repair': 'BLOCKING', 'read_repair_chance': 0.0, 'speculative_retry': '99PERCENTILE'}\n"
     ]
    }
   ],
   "source": [
    "for row in session.execute(\"SELECT * FROM system_schema.tables WHERE keyspace_name = 'scrapped_data';\"):\n",
    "    print (row)"
   ]
  },
  {
   "cell_type": "code",
   "execution_count": 44,
   "id": "d4e3c14d",
   "metadata": {},
   "outputs": [
    {
     "name": "stdout",
     "output_type": "stream",
     "text": [
      "{'keyspace_name': 'scrapped_data', 'table_name': 'product_scrape_event', 'column_name': 'asin', 'clustering_order': 'none', 'column_name_bytes': b'asin', 'kind': 'regular', 'position': -1, 'required_for_liveness': False, 'type': 'text'}\n",
      "{'keyspace_name': 'scrapped_data', 'table_name': 'product_scrape_event', 'column_name': 'price_str', 'clustering_order': 'none', 'column_name_bytes': b'price_str', 'kind': 'regular', 'position': -1, 'required_for_liveness': False, 'type': 'text'}\n",
      "{'keyspace_name': 'scrapped_data', 'table_name': 'product_scrape_event', 'column_name': 'title', 'clustering_order': 'none', 'column_name_bytes': b'title', 'kind': 'regular', 'position': -1, 'required_for_liveness': False, 'type': 'text'}\n",
      "{'keyspace_name': 'scrapped_data', 'table_name': 'product_scrape_event', 'column_name': 'uuid', 'clustering_order': 'none', 'column_name_bytes': b'uuid', 'kind': 'partition_key', 'position': 0, 'required_for_liveness': False, 'type': 'uuid'}\n"
     ]
    }
   ],
   "source": [
    "for row in session.execute(\"SELECT * FROM system_schema.columns WHERE keyspace_name = 'scrapped_data' AND table_name = 'product_scrape_event';\"):\n",
    "    print (row)"
   ]
  },
  {
   "cell_type": "code",
   "execution_count": 45,
   "id": "f21fa41d",
   "metadata": {},
   "outputs": [
    {
     "name": "stdout",
     "output_type": "stream",
     "text": [
      "{'uuid': UUID('07922e1c-9171-11ed-8804-ecb1d798c7f4'), 'asin': 'TESTING1D23', 'price_str': '-100', 'title': 'Mark 7898'}\n",
      "{'uuid': UUID('12f37c1b-9124-11ed-b02c-ecb1d798c7f4'), 'asin': 'TESTING1D23', 'price_str': '-100', 'title': 'Mark 7898'}\n",
      "{'uuid': UUID('7cb89f1a-9179-11ed-920f-ecb1d798c7f4'), 'asin': 'TESTING1D23', 'price_str': '-100', 'title': 'Mark 7898'}\n",
      "{'uuid': UUID('9832fc5c-9177-11ed-9fff-ecb1d798c7f4'), 'asin': 'TESTING1D23', 'price_str': '-100', 'title': 'Mark 7898'}\n",
      "{'uuid': UUID('10b6ff30-9124-11ed-b420-ecb1d798c7f4'), 'asin': 'TESTING1D23', 'price_str': '-100', 'title': 'Mark 7898'}\n",
      "{'uuid': UUID('0f5d2885-9124-11ed-be0a-ecb1d798c7f4'), 'asin': 'TESTING1D23', 'price_str': '-100', 'title': 'Mark 7898'}\n",
      "{'uuid': UUID('0ba9b39f-9124-11ed-9b2b-ecb1d798c7f4'), 'asin': 'TESTING1D23', 'price_str': '-100', 'title': 'Mark 7898'}\n",
      "{'uuid': UUID('68349f4d-9170-11ed-94d4-ecb1d798c7f4'), 'asin': 'TESTING1D23', 'price_str': '-100', 'title': 'Mark 7898'}\n",
      "{'uuid': UUID('0c92ef34-9124-11ed-919b-ecb1d798c7f4'), 'asin': 'TESTING1D23', 'price_str': '-100', 'title': 'Mark 7898'}\n",
      "{'uuid': UUID('dd715c7b-9170-11ed-a71c-ecb1d798c7f4'), 'asin': 'TESTING1D23', 'price_str': '-100', 'title': 'Mark 7898'}\n",
      "{'uuid': UUID('0a90b78a-9124-11ed-a0e6-ecb1d798c7f4'), 'asin': 'TESTING1D23', 'price_str': '-100', 'title': 'Mark 7898'}\n",
      "{'uuid': UUID('13b83e12-9124-11ed-9468-ecb1d798c7f4'), 'asin': 'TESTING1D23', 'price_str': '-100', 'title': 'Mark 7898'}\n",
      "{'uuid': UUID('3c74fd9e-9121-11ed-94a0-ecb1d798c7f4'), 'asin': 'TESTING1D23', 'price_str': '-100', 'title': 'Mark 7898'}\n",
      "{'uuid': UUID('b65b35da-9123-11ed-9ac7-ecb1d798c7f4'), 'asin': 'TESTING1D23', 'price_str': '-100', 'title': 'Mark 7898'}\n",
      "{'uuid': UUID('11f61563-9124-11ed-8253-ecb1d798c7f4'), 'asin': 'TESTING1D23', 'price_str': '-100', 'title': 'Mark 7898'}\n",
      "{'uuid': UUID('fa9fb211-9123-11ed-a51d-ecb1d798c7f4'), 'asin': 'TESTING1D23', 'price_str': '-100', 'title': 'Mark 7898'}\n"
     ]
    }
   ],
   "source": [
    "for row in session.execute(\"SELECT * FROM scrapped_data.product_scrape_event LIMIT 10000\"):\n",
    "    print (row)"
   ]
  },
  {
   "cell_type": "code",
   "execution_count": 46,
   "id": "9c8064d0",
   "metadata": {},
   "outputs": [
    {
     "ename": "Unauthorized",
     "evalue": "Error from server: code=2100 [Unauthorized] message=\"Missing correct permission on mykeyspace.: Keyspace management is currently only supported at https://astra.datastax.com/org/3f9c3285-32fa-47e8-b23f-0f52d9cf1377/database/99e2c6b0-5c13-4813-bd77-dca8243cacdd\"",
     "output_type": "error",
     "traceback": [
      "\u001b[1;31m---------------------------------------------------------------------------\u001b[0m",
      "\u001b[1;31mUnauthorized\u001b[0m                              Traceback (most recent call last)",
      "Cell \u001b[1;32mIn[46], line 1\u001b[0m\n\u001b[1;32m----> 1\u001b[0m \u001b[43msession\u001b[49m\u001b[38;5;241;43m.\u001b[39;49m\u001b[43mexecute\u001b[49m\u001b[43m(\u001b[49m\u001b[38;5;124;43m\"\u001b[39;49m\u001b[38;5;124;43mCREATE KEYSPACE mykeyspace WITH REPLICATION = \u001b[39;49m\u001b[38;5;124;43m{\u001b[39;49m\u001b[38;5;124;43m'\u001b[39;49m\u001b[38;5;124;43mclass\u001b[39;49m\u001b[38;5;124;43m'\u001b[39;49m\u001b[38;5;124;43m: \u001b[39;49m\u001b[38;5;124;43m'\u001b[39;49m\u001b[38;5;124;43mSimpleStrategy\u001b[39;49m\u001b[38;5;124;43m'\u001b[39;49m\u001b[38;5;124;43m, \u001b[39;49m\u001b[38;5;124;43m'\u001b[39;49m\u001b[38;5;124;43mreplication_factor\u001b[39;49m\u001b[38;5;124;43m'\u001b[39;49m\u001b[38;5;124;43m: 3};\u001b[39;49m\u001b[38;5;124;43m\"\u001b[39;49m\u001b[43m)\u001b[49m\n",
      "File \u001b[1;32m~\\Desktop\\DATA ENGINEERING\\FASTAPI-NOSQL\\lib\\site-packages\\cassandra\\cluster.py:2618\u001b[0m, in \u001b[0;36mSession.execute\u001b[1;34m(self, query, parameters, timeout, trace, custom_payload, execution_profile, paging_state, host, execute_as)\u001b[0m\n\u001b[0;32m   2575\u001b[0m \u001b[38;5;28;01mdef\u001b[39;00m \u001b[38;5;21mexecute\u001b[39m(\u001b[38;5;28mself\u001b[39m, query, parameters\u001b[38;5;241m=\u001b[39m\u001b[38;5;28;01mNone\u001b[39;00m, timeout\u001b[38;5;241m=\u001b[39m_NOT_SET, trace\u001b[38;5;241m=\u001b[39m\u001b[38;5;28;01mFalse\u001b[39;00m,\n\u001b[0;32m   2576\u001b[0m             custom_payload\u001b[38;5;241m=\u001b[39m\u001b[38;5;28;01mNone\u001b[39;00m, execution_profile\u001b[38;5;241m=\u001b[39mEXEC_PROFILE_DEFAULT,\n\u001b[0;32m   2577\u001b[0m             paging_state\u001b[38;5;241m=\u001b[39m\u001b[38;5;28;01mNone\u001b[39;00m, host\u001b[38;5;241m=\u001b[39m\u001b[38;5;28;01mNone\u001b[39;00m, execute_as\u001b[38;5;241m=\u001b[39m\u001b[38;5;28;01mNone\u001b[39;00m):\n\u001b[0;32m   2578\u001b[0m \u001b[38;5;250m    \u001b[39m\u001b[38;5;124;03m\"\"\"\u001b[39;00m\n\u001b[0;32m   2579\u001b[0m \u001b[38;5;124;03m    Execute the given query and synchronously wait for the response.\u001b[39;00m\n\u001b[0;32m   2580\u001b[0m \n\u001b[1;32m   (...)\u001b[0m\n\u001b[0;32m   2615\u001b[0m \u001b[38;5;124;03m    on a DSE cluster.\u001b[39;00m\n\u001b[0;32m   2616\u001b[0m \u001b[38;5;124;03m    \"\"\"\u001b[39;00m\n\u001b[1;32m-> 2618\u001b[0m     \u001b[38;5;28;01mreturn\u001b[39;00m \u001b[38;5;28;43mself\u001b[39;49m\u001b[38;5;241;43m.\u001b[39;49m\u001b[43mexecute_async\u001b[49m\u001b[43m(\u001b[49m\u001b[43mquery\u001b[49m\u001b[43m,\u001b[49m\u001b[43m \u001b[49m\u001b[43mparameters\u001b[49m\u001b[43m,\u001b[49m\u001b[43m \u001b[49m\u001b[43mtrace\u001b[49m\u001b[43m,\u001b[49m\u001b[43m \u001b[49m\u001b[43mcustom_payload\u001b[49m\u001b[43m,\u001b[49m\u001b[43m \u001b[49m\u001b[43mtimeout\u001b[49m\u001b[43m,\u001b[49m\u001b[43m \u001b[49m\u001b[43mexecution_profile\u001b[49m\u001b[43m,\u001b[49m\u001b[43m \u001b[49m\u001b[43mpaging_state\u001b[49m\u001b[43m,\u001b[49m\u001b[43m \u001b[49m\u001b[43mhost\u001b[49m\u001b[43m,\u001b[49m\u001b[43m \u001b[49m\u001b[43mexecute_as\u001b[49m\u001b[43m)\u001b[49m\u001b[38;5;241;43m.\u001b[39;49m\u001b[43mresult\u001b[49m\u001b[43m(\u001b[49m\u001b[43m)\u001b[49m\n",
      "File \u001b[1;32m~\\Desktop\\DATA ENGINEERING\\FASTAPI-NOSQL\\lib\\site-packages\\cassandra\\cluster.py:4894\u001b[0m, in \u001b[0;36mResponseFuture.result\u001b[1;34m(self)\u001b[0m\n\u001b[0;32m   4892\u001b[0m     \u001b[38;5;28;01mreturn\u001b[39;00m ResultSet(\u001b[38;5;28mself\u001b[39m, \u001b[38;5;28mself\u001b[39m\u001b[38;5;241m.\u001b[39m_final_result)\n\u001b[0;32m   4893\u001b[0m \u001b[38;5;28;01melse\u001b[39;00m:\n\u001b[1;32m-> 4894\u001b[0m     \u001b[38;5;28;01mraise\u001b[39;00m \u001b[38;5;28mself\u001b[39m\u001b[38;5;241m.\u001b[39m_final_exception\n",
      "\u001b[1;31mUnauthorized\u001b[0m: Error from server: code=2100 [Unauthorized] message=\"Missing correct permission on mykeyspace.: Keyspace management is currently only supported at https://astra.datastax.com/org/3f9c3285-32fa-47e8-b23f-0f52d9cf1377/database/99e2c6b0-5c13-4813-bd77-dca8243cacdd\""
     ]
    }
   ],
   "source": [
    "session.execute(\"CREATE KEYSPACE mykeyspace WITH REPLICATION = {'class': 'SimpleStrategy', 'replication_factor': 3};\")"
   ]
  },
  {
   "cell_type": "code",
   "execution_count": null,
   "id": "fe3eb747",
   "metadata": {},
   "outputs": [],
   "source": []
  }
 ],
 "metadata": {
  "kernelspec": {
   "display_name": "Python 3 (ipykernel)",
   "language": "python",
   "name": "python3"
  },
  "language_info": {
   "codemirror_mode": {
    "name": "ipython",
    "version": 3
   },
   "file_extension": ".py",
   "mimetype": "text/x-python",
   "name": "python",
   "nbconvert_exporter": "python",
   "pygments_lexer": "ipython3",
   "version": "3.9.13"
  }
 },
 "nbformat": 4,
 "nbformat_minor": 5
}
